{
 "cells": [
  {
   "cell_type": "markdown",
   "metadata": {},
   "source": [
    "## Data Characterisation"
   ]
  },
  {
   "cell_type": "markdown",
   "metadata": {},
   "source": [
    "### Module Importing"
   ]
  },
  {
   "cell_type": "code",
   "execution_count": 1,
   "metadata": {},
   "outputs": [
    {
     "name": "stderr",
     "output_type": "stream",
     "text": [
      "[nltk_data] Downloading package stopwords to\n",
      "[nltk_data]     C:\\Users\\lukas\\AppData\\Roaming\\nltk_data...\n",
      "[nltk_data]   Package stopwords is already up-to-date!\n",
      "[nltk_data] Downloading package wordnet to\n",
      "[nltk_data]     C:\\Users\\lukas\\AppData\\Roaming\\nltk_data...\n",
      "[nltk_data]   Package wordnet is already up-to-date!\n"
     ]
    }
   ],
   "source": [
    "import pandas\n",
    "import re\n",
    "import nltk\n",
    "nltk.download('stopwords')\n",
    "nltk.download('wordnet')\n",
    "\n",
    "from langdetect import detect\n",
    "from googletrans import Translator\n",
    "\n",
    "import matplotlib.pyplot as plt"
   ]
  },
  {
   "cell_type": "markdown",
   "metadata": {},
   "source": [
    "### Get Dataset and Create Dataframes for Testing and Training"
   ]
  },
  {
   "cell_type": "code",
   "execution_count": 58,
   "metadata": {},
   "outputs": [],
   "source": [
    "# get the dataset\n",
    "trainingData = pandas.read_csv(\"dataset/mediaeval-2015-trainingset.txt\", sep=\"\\t\")\n",
    "testingData = pandas.read_csv(\"dataset/mediaeval-2015-testset.txt\", sep=\"\\t\")\n",
    "\n",
    "# create pandas dataframes for training and testing\n",
    "training_df = pandas.DataFrame(data = trainingData)\n",
    "testing_df = pandas.DataFrame(data = testingData)"
   ]
  },
  {
   "cell_type": "markdown",
   "metadata": {},
   "source": [
    "### Get general information on dataset"
   ]
  },
  {
   "cell_type": "code",
   "execution_count": 3,
   "metadata": {},
   "outputs": [
    {
     "data": {
      "text/plain": [
       "(14277, 7)"
      ]
     },
     "execution_count": 3,
     "metadata": {},
     "output_type": "execute_result"
    }
   ],
   "source": [
    "# size of training dataset\n",
    "training_df.shape"
   ]
  },
  {
   "cell_type": "code",
   "execution_count": 9,
   "metadata": {},
   "outputs": [
    {
     "data": {
      "text/plain": [
       "(3755, 7)"
      ]
     },
     "execution_count": 9,
     "metadata": {},
     "output_type": "execute_result"
    }
   ],
   "source": [
    "# size of testing dataset\n",
    "testing_df.shape"
   ]
  },
  {
   "cell_type": "markdown",
   "metadata": {},
   "source": [
    "### Find any duplicates in dataset"
   ]
  },
  {
   "cell_type": "code",
   "execution_count": 4,
   "metadata": {},
   "outputs": [
    {
     "data": {
      "text/html": [
       "<div>\n",
       "<style scoped>\n",
       "    .dataframe tbody tr th:only-of-type {\n",
       "        vertical-align: middle;\n",
       "    }\n",
       "\n",
       "    .dataframe tbody tr th {\n",
       "        vertical-align: top;\n",
       "    }\n",
       "\n",
       "    .dataframe thead th {\n",
       "        text-align: right;\n",
       "    }\n",
       "</style>\n",
       "<table border=\"1\" class=\"dataframe\">\n",
       "  <thead>\n",
       "    <tr style=\"text-align: right;\">\n",
       "      <th></th>\n",
       "      <th>tweetText</th>\n",
       "      <th>imageId(s)</th>\n",
       "      <th>username</th>\n",
       "      <th>timestamp</th>\n",
       "      <th>label</th>\n",
       "    </tr>\n",
       "  </thead>\n",
       "  <tbody>\n",
       "    <tr>\n",
       "      <th>count</th>\n",
       "      <td>14277</td>\n",
       "      <td>14277</td>\n",
       "      <td>14277</td>\n",
       "      <td>14277</td>\n",
       "      <td>14277</td>\n",
       "    </tr>\n",
       "    <tr>\n",
       "      <th>unique</th>\n",
       "      <td>12376</td>\n",
       "      <td>377</td>\n",
       "      <td>13498</td>\n",
       "      <td>13909</td>\n",
       "      <td>3</td>\n",
       "    </tr>\n",
       "    <tr>\n",
       "      <th>top</th>\n",
       "      <td>Unbelievable scene flying over #StatenIsland i...</td>\n",
       "      <td>sandyA_fake_29</td>\n",
       "      <td>SAGandAFTRA</td>\n",
       "      <td>Tue Oct 30 00:31:14 +0000 2012</td>\n",
       "      <td>fake</td>\n",
       "    </tr>\n",
       "    <tr>\n",
       "      <th>freq</th>\n",
       "      <td>42</td>\n",
       "      <td>1100</td>\n",
       "      <td>16</td>\n",
       "      <td>4</td>\n",
       "      <td>6742</td>\n",
       "    </tr>\n",
       "  </tbody>\n",
       "</table>\n",
       "</div>"
      ],
      "text/plain": [
       "                                                tweetText      imageId(s)  \\\n",
       "count                                               14277           14277   \n",
       "unique                                              12376             377   \n",
       "top     Unbelievable scene flying over #StatenIsland i...  sandyA_fake_29   \n",
       "freq                                                   42            1100   \n",
       "\n",
       "           username                       timestamp  label  \n",
       "count         14277                           14277  14277  \n",
       "unique        13498                           13909      3  \n",
       "top     SAGandAFTRA  Tue Oct 30 00:31:14 +0000 2012   fake  \n",
       "freq             16                               4   6742  "
      ]
     },
     "execution_count": 4,
     "metadata": {},
     "output_type": "execute_result"
    }
   ],
   "source": [
    "# brief description of training dataset\n",
    "training_df.describe(include=object)"
   ]
  },
  {
   "cell_type": "code",
   "execution_count": 39,
   "metadata": {},
   "outputs": [
    {
     "data": {
      "text/html": [
       "<div>\n",
       "<style scoped>\n",
       "    .dataframe tbody tr th:only-of-type {\n",
       "        vertical-align: middle;\n",
       "    }\n",
       "\n",
       "    .dataframe tbody tr th {\n",
       "        vertical-align: top;\n",
       "    }\n",
       "\n",
       "    .dataframe thead th {\n",
       "        text-align: right;\n",
       "    }\n",
       "</style>\n",
       "<table border=\"1\" class=\"dataframe\">\n",
       "  <thead>\n",
       "    <tr style=\"text-align: right;\">\n",
       "      <th></th>\n",
       "      <th>tweetText</th>\n",
       "      <th>Images</th>\n",
       "      <th>username</th>\n",
       "      <th>timestamp</th>\n",
       "      <th>label</th>\n",
       "      <th>cleanedText</th>\n",
       "    </tr>\n",
       "  </thead>\n",
       "  <tbody>\n",
       "    <tr>\n",
       "      <th>count</th>\n",
       "      <td>3755</td>\n",
       "      <td>3755</td>\n",
       "      <td>3755</td>\n",
       "      <td>3755</td>\n",
       "      <td>3755</td>\n",
       "      <td>3755</td>\n",
       "    </tr>\n",
       "    <tr>\n",
       "      <th>unique</th>\n",
       "      <td>3706</td>\n",
       "      <td>88</td>\n",
       "      <td>3553</td>\n",
       "      <td>3449</td>\n",
       "      <td>2</td>\n",
       "      <td>1712</td>\n",
       "    </tr>\n",
       "    <tr>\n",
       "      <th>top</th>\n",
       "      <td>J'aime une vidéo @YouTube : \"SYRIA! SYRIAN HER...</td>\n",
       "      <td>syrianboy_1</td>\n",
       "      <td>_WTFVideos</td>\n",
       "      <td>Sat Apr 25 18:05:05 +0000 2015</td>\n",
       "      <td>fake</td>\n",
       "      <td>Nepals historic Dharahara Tower collapse massi...</td>\n",
       "    </tr>\n",
       "    <tr>\n",
       "      <th>freq</th>\n",
       "      <td>4</td>\n",
       "      <td>1769</td>\n",
       "      <td>23</td>\n",
       "      <td>13</td>\n",
       "      <td>2546</td>\n",
       "      <td>312</td>\n",
       "    </tr>\n",
       "  </tbody>\n",
       "</table>\n",
       "</div>"
      ],
      "text/plain": [
       "                                                tweetText       Images  \\\n",
       "count                                                3755         3755   \n",
       "unique                                               3706           88   \n",
       "top     J'aime une vidéo @YouTube : \"SYRIA! SYRIAN HER...  syrianboy_1   \n",
       "freq                                                    4         1769   \n",
       "\n",
       "          username                       timestamp label  \\\n",
       "count         3755                            3755  3755   \n",
       "unique        3553                            3449     2   \n",
       "top     _WTFVideos  Sat Apr 25 18:05:05 +0000 2015  fake   \n",
       "freq            23                              13  2546   \n",
       "\n",
       "                                              cleanedText  \n",
       "count                                                3755  \n",
       "unique                                               1712  \n",
       "top     Nepals historic Dharahara Tower collapse massi...  \n",
       "freq                                                  312  "
      ]
     },
     "execution_count": 39,
     "metadata": {},
     "output_type": "execute_result"
    }
   ],
   "source": [
    "# brief description of testing dataset\n",
    "testing_df.describe(include=object)"
   ]
  },
  {
   "cell_type": "code",
   "execution_count": 5,
   "metadata": {},
   "outputs": [
    {
     "name": "stdout",
     "output_type": "stream",
     "text": [
      "<class 'pandas.core.frame.DataFrame'>\n",
      "RangeIndex: 14277 entries, 0 to 14276\n",
      "Data columns (total 7 columns):\n",
      " #   Column      Non-Null Count  Dtype \n",
      "---  ------      --------------  ----- \n",
      " 0   tweetId     14277 non-null  int64 \n",
      " 1   tweetText   14277 non-null  object\n",
      " 2   userId      14277 non-null  int64 \n",
      " 3   imageId(s)  14277 non-null  object\n",
      " 4   username    14277 non-null  object\n",
      " 5   timestamp   14277 non-null  object\n",
      " 6   label       14277 non-null  object\n",
      "dtypes: int64(2), object(5)\n",
      "memory usage: 780.9+ KB\n"
     ]
    }
   ],
   "source": [
    "# general information about training dataset\n",
    "trainingData.info()"
   ]
  },
  {
   "cell_type": "code",
   "execution_count": 40,
   "metadata": {},
   "outputs": [
    {
     "name": "stdout",
     "output_type": "stream",
     "text": [
      "<class 'pandas.core.frame.DataFrame'>\n",
      "RangeIndex: 3755 entries, 0 to 3754\n",
      "Data columns (total 7 columns):\n",
      " #   Column      Non-Null Count  Dtype \n",
      "---  ------      --------------  ----- \n",
      " 0   tweetId     3755 non-null   int64 \n",
      " 1   tweetText   3755 non-null   object\n",
      " 2   userId      3755 non-null   int64 \n",
      " 3   imageId(s)  3755 non-null   object\n",
      " 4   username    3755 non-null   object\n",
      " 5   timestamp   3755 non-null   object\n",
      " 6   label       3755 non-null   object\n",
      "dtypes: int64(2), object(5)\n",
      "memory usage: 205.5+ KB\n"
     ]
    }
   ],
   "source": [
    "# general information about testing dataset\n",
    "testingData.info()"
   ]
  },
  {
   "cell_type": "markdown",
   "metadata": {},
   "source": [
    "### Find and produce bar chart on the number of different types of labels used in training set"
   ]
  },
  {
   "cell_type": "code",
   "execution_count": 6,
   "metadata": {},
   "outputs": [
    {
     "name": "stdout",
     "output_type": "stream",
     "text": [
      "label\n",
      "fake     6742\n",
      "real     4920\n",
      "humor    2614\n",
      "Name: tweetId, dtype: int64\n"
     ]
    },
    {
     "data": {
      "image/png": "[encoded data removed]",
      "text/plain": [
       "<Figure size 640x480 with 1 Axes>"
      ]
     },
     "metadata": {},
     "output_type": "display_data"
    }
   ],
   "source": [
    "# find number of tweets with each label\n",
    "labelCount = training_df.groupby(training_df.label.str.split('_').str[0])['tweetId'].nunique()\n",
    "labelCount = labelCount.sort_values(ascending=False)\n",
    "print (labelCount)\n",
    "\n",
    "# plot event frequency on bar chart\n",
    "labelCount.plot(kind='bar')\n",
    "plt.show()"
   ]
  },
  {
   "cell_type": "markdown",
   "metadata": {},
   "source": [
    "### Find and produce bar chart on the number of different types of labels used in testing set"
   ]
  },
  {
   "cell_type": "code",
   "execution_count": 10,
   "metadata": {},
   "outputs": [
    {
     "name": "stdout",
     "output_type": "stream",
     "text": [
      "label\n",
      "fake    2546\n",
      "real    1209\n",
      "Name: tweetId, dtype: int64\n"
     ]
    },
    {
     "data": {
      "image/png": "[encoded data removed]",
      "text/plain": [
       "<Figure size 640x480 with 1 Axes>"
      ]
     },
     "metadata": {},
     "output_type": "display_data"
    }
   ],
   "source": [
    "# find number of tweets with each label\n",
    "labelCount = testing_df.groupby(testing_df.label.str.split('_').str[0])['tweetId'].nunique()\n",
    "labelCount = labelCount.sort_values(ascending=False)\n",
    "print (labelCount)\n",
    "\n",
    "# plot event frequency on bar chart\n",
    "labelCount.plot(kind='bar')\n",
    "plt.show()"
   ]
  },
  {
   "cell_type": "markdown",
   "metadata": {},
   "source": [
    "### Find and produce bar chart on the different events represented in training dataset"
   ]
  },
  {
   "cell_type": "code",
   "execution_count": 11,
   "metadata": {},
   "outputs": [
    {
     "name": "stdout",
     "output_type": "stream",
     "text": [
      "Images\n",
      "sandyA                9695\n",
      "sandyB                2621\n",
      "boston                 546\n",
      "malaysia               501\n",
      "sochi                  402\n",
      "columbianChemicals     185\n",
      "bringback              131\n",
      "underwater             112\n",
      "passport                46\n",
      "pigFish                 14\n",
      "elephant                13\n",
      "livr                     9\n",
      "Name: tweetId, dtype: int64\n"
     ]
    },
    {
     "data": {
      "image/png": "[encoded data removed]",
      "text/plain": [
       "<Figure size 640x480 with 1 Axes>"
      ]
     },
     "metadata": {},
     "output_type": "display_data"
    }
   ],
   "source": [
    "# find number of tweets about event for training\n",
    "training_df.rename(columns = {'imageId(s)':'Images'}, inplace = True)\n",
    "imgCount = training_df.groupby(training_df.Images.str.split('_').str[0])['tweetId'].nunique()\n",
    "imgCount = imgCount.sort_values(ascending=False)\n",
    "print (imgCount)\n",
    "\n",
    "# plot event frequency on bar chart\n",
    "imgCount.plot(kind='bar')\n",
    "plt.show()"
   ]
  },
  {
   "cell_type": "markdown",
   "metadata": {},
   "source": [
    "### Find and produce bar chart on the different events represented in testing dataset"
   ]
  },
  {
   "cell_type": "code",
   "execution_count": 12,
   "metadata": {},
   "outputs": [
    {
     "name": "stdout",
     "output_type": "stream",
     "text": [
      "Images\n",
      "syrianboy     1769\n",
      "nepal         1353\n",
      "eclipse        277\n",
      "samurai        218\n",
      "garissa         77\n",
      "varoufakis      61\n",
      "Name: tweetId, dtype: int64\n"
     ]
    },
    {
     "data": {
      "image/png": "[encoded data removed]",
      "text/plain": [
       "<Figure size 640x480 with 1 Axes>"
      ]
     },
     "metadata": {},
     "output_type": "display_data"
    }
   ],
   "source": [
    "# find number of tweets about event for testing\n",
    "testing_df.rename(columns = {'imageId(s)':'Images'}, inplace = True)\n",
    "imgCount = testing_df.groupby(testing_df.Images.str.split('_').str[0])['tweetId'].nunique()\n",
    "imgCount = imgCount.sort_values(ascending=False)\n",
    "print (imgCount)\n",
    "\n",
    "# plot event frequency on bar chart\n",
    "imgCount.plot(kind='bar')\n",
    "plt.show()"
   ]
  },
  {
   "cell_type": "markdown",
   "metadata": {},
   "source": [
    "### Get information on the number of different languages used in the tweetTexts in the dataset"
   ]
  },
  {
   "cell_type": "code",
   "execution_count": 51,
   "metadata": {},
   "outputs": [
    {
     "name": "stdout",
     "output_type": "stream",
     "text": [
      "Number of different languages:  {'es': 998, 'en': 8601, 'sq': 7, 'pt': 144, 'bg': 7, 'it': 74, 'no': 23, 'fr': 140, 'tl': 155, 'nl': 66, 'de': 80, 'cy': 87, 'id': 136, 'ru': 40, 'sl': 8, 'ja': 15, 'ar': 55, 'af': 54, 'vi': 11, 'ca': 27, 'hu': 6, 'sv': 39, 'so': 77, 'fi': 11, 'pl': 29, 'hr': 3, 'da': 19, 'el': 4, 'lt': 4, 'sk': 12, 'he': 1, 'tr': 27, 'zh-cn': 6, 'ro': 6, 'fa': 2, 'et': 8, 'sw': 6, 'ko': 3, 'th': 13, 'cs': 1, 'N/A': 1, 'mk': 1, 'hi': 1, 'lv': 1}\n"
     ]
    },
    {
     "data": {
      "image/png": "[encoded data removed]",
      "text/plain": [
       "<Figure size 1200x600 with 1 Axes>"
      ]
     },
     "metadata": {},
     "output_type": "display_data"
    }
   ],
   "source": [
    "# find all different languages of the tweetTexts in the training dataset\n",
    "langs = dict()\n",
    "\n",
    "for tweetText in training_df['tweetText']:\n",
    "    try:\n",
    "        language = detect(tweetText)\n",
    "    except:\n",
    "        language = \"N/A\"\n",
    "\n",
    "    if language in langs.keys():\n",
    "        langs[language] = langs[language] + 1\n",
    "    else:\n",
    "        langs[language] = 1\n",
    "\n",
    "\n",
    "print (\"Number of different languages: \", langs)\n",
    "\n",
    "# plot language frequencies on a line chart\n",
    "lists = sorted(langs.items(), key=lambda x:x[1], reverse=True)\n",
    "\n",
    "x, y = zip(*lists)\n",
    "\n",
    "plt.figure(figsize=(12,6))\n",
    "plt.plot(x, y)\n",
    "plt.show()"
   ]
  },
  {
   "cell_type": "code",
   "execution_count": 50,
   "metadata": {},
   "outputs": [
    {
     "name": "stdout",
     "output_type": "stream",
     "text": [
      "Number of different languages:  {'en': 2783, 'fr': 33, 'es': 66, 'ca': 6, 'it': 18, 'pt': 35, 'nl': 23, 'fi': 4, 'id': 7, 'af': 5, 'sq': 7, 'ar': 188, 'hr': 1, 'tr': 12, 'hi': 5, 'ta': 1, 'et': 2, 'el': 2, 'so': 491, 'tl': 3, 'pl': 2, 'te': 2, 'ru': 2, 'th': 2, 'sv': 3, 'vi': 2, 'ko': 1, 'ja': 2, 'cy': 5, 'lt': 1, 'de': 41}\n"
     ]
    },
    {
     "data": {
      "image/png": "[encoded data removed]",
      "text/plain": [
       "<Figure size 1200x600 with 1 Axes>"
      ]
     },
     "metadata": {},
     "output_type": "display_data"
    }
   ],
   "source": [
    "# find all different languages of the tweetTexts in the testing dataset\n",
    "langs = dict()\n",
    "\n",
    "for tweetText in testing_df['tweetText']:\n",
    "    try:\n",
    "        language = detect(tweetText)\n",
    "    except:\n",
    "        language = \"N/A\"\n",
    "\n",
    "    if language in langs.keys():\n",
    "        langs[language] = langs[language] + 1\n",
    "    else:\n",
    "        langs[language] = 1\n",
    "\n",
    "\n",
    "print (\"Number of different languages: \", langs)\n",
    "\n",
    "# plot language frequencies on a line chart\n",
    "lists = sorted(langs.items(), key=lambda x:x[1], reverse=True)\n",
    "\n",
    "x, y = zip(*lists)\n",
    "\n",
    "plt.figure(figsize=(12,6))\n",
    "plt.plot(x, y)\n",
    "plt.show()"
   ]
  },
  {
   "cell_type": "markdown",
   "metadata": {},
   "source": [
    "## Data Preprocessing"
   ]
  },
  {
   "cell_type": "markdown",
   "metadata": {},
   "source": [
    "### Change all data labels of 'humour' to 'fake'"
   ]
  },
  {
   "cell_type": "code",
   "execution_count": 59,
   "metadata": {},
   "outputs": [],
   "source": [
    "#Changing 'humor' to 'fake'\n",
    "training_df.loc[(training_df.label == 'humor'), 'label'] = 'fake'\n",
    "testing_df.loc[(testing_df.label == 'humor'), 'label'] = 'fake'"
   ]
  },
  {
   "cell_type": "markdown",
   "metadata": {},
   "source": [
    "### This function is used to translate any non-English tweets to English using googletrans' library"
   ]
  },
  {
   "cell_type": "code",
   "execution_count": 52,
   "metadata": {},
   "outputs": [],
   "source": [
    "# function to translate tweetText\n",
    "def translate_tweet(tweetText):\n",
    "    translator = Translator()\n",
    "    translated_tweet = translator.translate(tweetText, dest='en').text\n",
    "    return translated_tweet"
   ]
  },
  {
   "cell_type": "markdown",
   "metadata": {},
   "source": [
    "### Cleanse tweets of any unnecessary information (or noise)"
   ]
  },
  {
   "cell_type": "code",
   "execution_count": 61,
   "metadata": {},
   "outputs": [
    {
     "data": {
      "text/html": [
       "<div>\n",
       "<style scoped>\n",
       "    .dataframe tbody tr th:only-of-type {\n",
       "        vertical-align: middle;\n",
       "    }\n",
       "\n",
       "    .dataframe tbody tr th {\n",
       "        vertical-align: top;\n",
       "    }\n",
       "\n",
       "    .dataframe thead th {\n",
       "        text-align: right;\n",
       "    }\n",
       "</style>\n",
       "<table border=\"1\" class=\"dataframe\">\n",
       "  <thead>\n",
       "    <tr style=\"text-align: right;\">\n",
       "      <th></th>\n",
       "      <th>tweetId</th>\n",
       "      <th>tweetText</th>\n",
       "      <th>userId</th>\n",
       "      <th>imageId(s)</th>\n",
       "      <th>username</th>\n",
       "      <th>timestamp</th>\n",
       "      <th>label</th>\n",
       "      <th>cleanedText</th>\n",
       "    </tr>\n",
       "  </thead>\n",
       "  <tbody>\n",
       "    <tr>\n",
       "      <th>0</th>\n",
       "      <td>263046056240115712</td>\n",
       "      <td>¿Se acuerdan de la película: “El día después d...</td>\n",
       "      <td>21226711</td>\n",
       "      <td>sandyA_fake_46</td>\n",
       "      <td>iAnnieM</td>\n",
       "      <td>Mon Oct 29 22:34:01 +0000 2012</td>\n",
       "      <td>fake</td>\n",
       "      <td>Se acuerdan de la película El día después de m...</td>\n",
       "    </tr>\n",
       "    <tr>\n",
       "      <th>1</th>\n",
       "      <td>262995061304852481</td>\n",
       "      <td>@milenagimon: Miren a Sandy en NY!  Tremenda i...</td>\n",
       "      <td>192378571</td>\n",
       "      <td>sandyA_fake_09</td>\n",
       "      <td>CarlosVerareal</td>\n",
       "      <td>Mon Oct 29 19:11:23 +0000 2012</td>\n",
       "      <td>fake</td>\n",
       "      <td>Miren a Sandy en NY  Tremenda imagen del hura...</td>\n",
       "    </tr>\n",
       "    <tr>\n",
       "      <th>2</th>\n",
       "      <td>262979898002534400</td>\n",
       "      <td>Buena la foto del Huracán Sandy, me recuerda a...</td>\n",
       "      <td>132303095</td>\n",
       "      <td>sandyA_fake_09</td>\n",
       "      <td>LucasPalape</td>\n",
       "      <td>Mon Oct 29 18:11:08 +0000 2012</td>\n",
       "      <td>fake</td>\n",
       "      <td>Buena la foto del Huracán Sandy me recuerda a ...</td>\n",
       "    </tr>\n",
       "    <tr>\n",
       "      <th>3</th>\n",
       "      <td>262996108400271360</td>\n",
       "      <td>Scary shit #hurricane #NY http://t.co/e4JLBUfH</td>\n",
       "      <td>241995902</td>\n",
       "      <td>sandyA_fake_29</td>\n",
       "      <td>Haaaaarryyy</td>\n",
       "      <td>Mon Oct 29 19:15:33 +0000 2012</td>\n",
       "      <td>fake</td>\n",
       "      <td>Scary shit hurricane NY</td>\n",
       "    </tr>\n",
       "    <tr>\n",
       "      <th>4</th>\n",
       "      <td>263018881839411200</td>\n",
       "      <td>My fave place in the world #nyc #hurricane #sa...</td>\n",
       "      <td>250315890</td>\n",
       "      <td>sandyA_fake_15</td>\n",
       "      <td>princess__natt</td>\n",
       "      <td>Mon Oct 29 20:46:02 +0000 2012</td>\n",
       "      <td>fake</td>\n",
       "      <td>My fave place in the world nyc hurricane sandy...</td>\n",
       "    </tr>\n",
       "  </tbody>\n",
       "</table>\n",
       "</div>"
      ],
      "text/plain": [
       "              tweetId                                          tweetText  \\\n",
       "0  263046056240115712  ¿Se acuerdan de la película: “El día después d...   \n",
       "1  262995061304852481  @milenagimon: Miren a Sandy en NY!  Tremenda i...   \n",
       "2  262979898002534400  Buena la foto del Huracán Sandy, me recuerda a...   \n",
       "3  262996108400271360     Scary shit #hurricane #NY http://t.co/e4JLBUfH   \n",
       "4  263018881839411200  My fave place in the world #nyc #hurricane #sa...   \n",
       "\n",
       "      userId      imageId(s)        username                       timestamp  \\\n",
       "0   21226711  sandyA_fake_46         iAnnieM  Mon Oct 29 22:34:01 +0000 2012   \n",
       "1  192378571  sandyA_fake_09  CarlosVerareal  Mon Oct 29 19:11:23 +0000 2012   \n",
       "2  132303095  sandyA_fake_09     LucasPalape  Mon Oct 29 18:11:08 +0000 2012   \n",
       "3  241995902  sandyA_fake_29     Haaaaarryyy  Mon Oct 29 19:15:33 +0000 2012   \n",
       "4  250315890  sandyA_fake_15  princess__natt  Mon Oct 29 20:46:02 +0000 2012   \n",
       "\n",
       "  label                                        cleanedText  \n",
       "0  fake  Se acuerdan de la película El día después de m...  \n",
       "1  fake   Miren a Sandy en NY  Tremenda imagen del hura...  \n",
       "2  fake  Buena la foto del Huracán Sandy me recuerda a ...  \n",
       "3  fake                           Scary shit hurricane NY   \n",
       "4  fake  My fave place in the world nyc hurricane sandy...  "
      ]
     },
     "execution_count": 61,
     "metadata": {},
     "output_type": "execute_result"
    }
   ],
   "source": [
    "# remove all unnecessary non-textual features and noise from tweetText\n",
    "def remove_noise(tweetText):\n",
    "    # removes URLs\n",
    "    tweetText = re.sub(r'http\\S+','', tweetText)\n",
    "    tweetText = re.sub(r'\\\\\\/\\S+', '', tweetText)\n",
    "    # removes usernames\n",
    "    tweetText = re.sub(r'@\\w+', '', tweetText)\n",
    "    # removes '&'s and newline symbol\n",
    "    tweetText = re.sub(r'&amp;', '', tweetText)\n",
    "    tweetText = re.sub(r'\\\\n', '', tweetText)\n",
    "    # removes non-word characters\n",
    "    tweetText = re.sub(r'[^\\w\\s]','',tweetText)\n",
    "    # removes numbers\n",
    "    tweetText = re.sub(r'[0-9]','',tweetText)\n",
    "\n",
    "    emoticons = re.compile(pattern = \"[\"\n",
    "        u\"\\U0001F600-\\U0001F64F\"\n",
    "        u\"\\U0001F300-\\U0001F5FF\"\n",
    "        u\"\\U0001F680-\\U0001F6FF\"\n",
    "        u\"\\U0001F1E0-\\U0001F1FF\"\n",
    "        \"]+\", flags = re.UNICODE)\n",
    "    # removes emoticons\n",
    "    tweetText = emoticons.sub(r'', tweetText)\n",
    "\n",
    "    # translate non-English tweets (NOT WORKING)\n",
    "    #if detect(tweetText) != 'en':\n",
    "    #    tweetText = translate_tweet(tweetText)\n",
    "    \n",
    "    return tweetText\n",
    "\n",
    "# remove text noise using function above\n",
    "training_df['cleanedText'] = training_df['tweetText'].apply(lambda text: remove_noise(text))\n",
    "testing_df['cleanedText'] = testing_df['tweetText'].apply(lambda text: remove_noise(text))\n",
    "training_df.head()"
   ]
  },
  {
   "cell_type": "markdown",
   "metadata": {},
   "source": [
    "### Remove stopwords from tweetText"
   ]
  },
  {
   "cell_type": "code",
   "execution_count": 72,
   "metadata": {},
   "outputs": [],
   "source": [
    "# initiate stopwords\n",
    "stopwords = nltk.corpus.stopwords.words()"
   ]
  },
  {
   "cell_type": "code",
   "execution_count": 73,
   "metadata": {},
   "outputs": [],
   "source": [
    "# removes stopwords\n",
    "training_df['cleanedText'] = training_df['cleanedText'].apply(lambda text: ' '.join([x for x in text.split() if x not in stopwords]))\n",
    "testing_df['cleanedText'] = testing_df['cleanedText'].apply(lambda text: ' '.join([x for x in text.split() if x not in stopwords]))"
   ]
  },
  {
   "cell_type": "markdown",
   "metadata": {},
   "source": [
    "### Tokenize and Lemmatise tweets"
   ]
  },
  {
   "cell_type": "code",
   "execution_count": 74,
   "metadata": {},
   "outputs": [
    {
     "data": {
      "text/html": [
       "<div>\n",
       "<style scoped>\n",
       "    .dataframe tbody tr th:only-of-type {\n",
       "        vertical-align: middle;\n",
       "    }\n",
       "\n",
       "    .dataframe tbody tr th {\n",
       "        vertical-align: top;\n",
       "    }\n",
       "\n",
       "    .dataframe thead th {\n",
       "        text-align: right;\n",
       "    }\n",
       "</style>\n",
       "<table border=\"1\" class=\"dataframe\">\n",
       "  <thead>\n",
       "    <tr style=\"text-align: right;\">\n",
       "      <th></th>\n",
       "      <th>tweetId</th>\n",
       "      <th>tweetText</th>\n",
       "      <th>userId</th>\n",
       "      <th>imageId(s)</th>\n",
       "      <th>username</th>\n",
       "      <th>timestamp</th>\n",
       "      <th>label</th>\n",
       "      <th>cleanedText</th>\n",
       "    </tr>\n",
       "  </thead>\n",
       "  <tbody>\n",
       "    <tr>\n",
       "      <th>0</th>\n",
       "      <td>263046056240115712</td>\n",
       "      <td>¿Se acuerdan de la película: “El día después d...</td>\n",
       "      <td>21226711</td>\n",
       "      <td>sandyA_fake_46</td>\n",
       "      <td>iAnnieM</td>\n",
       "      <td>Mon Oct 29 22:34:01 +0000 2012</td>\n",
       "      <td>fake</td>\n",
       "      <td>Se acuerdan película El día después mañana Me ...</td>\n",
       "    </tr>\n",
       "    <tr>\n",
       "      <th>1</th>\n",
       "      <td>262995061304852481</td>\n",
       "      <td>@milenagimon: Miren a Sandy en NY!  Tremenda i...</td>\n",
       "      <td>192378571</td>\n",
       "      <td>sandyA_fake_09</td>\n",
       "      <td>CarlosVerareal</td>\n",
       "      <td>Mon Oct 29 19:11:23 +0000 2012</td>\n",
       "      <td>fake</td>\n",
       "      <td>Miren Sandy NY Tremenda imagen huracán Parece ...</td>\n",
       "    </tr>\n",
       "    <tr>\n",
       "      <th>2</th>\n",
       "      <td>262979898002534400</td>\n",
       "      <td>Buena la foto del Huracán Sandy, me recuerda a...</td>\n",
       "      <td>132303095</td>\n",
       "      <td>sandyA_fake_09</td>\n",
       "      <td>LucasPalape</td>\n",
       "      <td>Mon Oct 29 18:11:08 +0000 2012</td>\n",
       "      <td>fake</td>\n",
       "      <td>Buena foto Huracán Sandy recuerda película Día...</td>\n",
       "    </tr>\n",
       "    <tr>\n",
       "      <th>3</th>\n",
       "      <td>262996108400271360</td>\n",
       "      <td>Scary shit #hurricane #NY http://t.co/e4JLBUfH</td>\n",
       "      <td>241995902</td>\n",
       "      <td>sandyA_fake_29</td>\n",
       "      <td>Haaaaarryyy</td>\n",
       "      <td>Mon Oct 29 19:15:33 +0000 2012</td>\n",
       "      <td>fake</td>\n",
       "      <td>Scary shit hurricane NY</td>\n",
       "    </tr>\n",
       "    <tr>\n",
       "      <th>4</th>\n",
       "      <td>263018881839411200</td>\n",
       "      <td>My fave place in the world #nyc #hurricane #sa...</td>\n",
       "      <td>250315890</td>\n",
       "      <td>sandyA_fake_15</td>\n",
       "      <td>princess__natt</td>\n",
       "      <td>Mon Oct 29 20:46:02 +0000 2012</td>\n",
       "      <td>fake</td>\n",
       "      <td>My fave place world nyc hurricane sandy statue...</td>\n",
       "    </tr>\n",
       "  </tbody>\n",
       "</table>\n",
       "</div>"
      ],
      "text/plain": [
       "              tweetId                                          tweetText  \\\n",
       "0  263046056240115712  ¿Se acuerdan de la película: “El día después d...   \n",
       "1  262995061304852481  @milenagimon: Miren a Sandy en NY!  Tremenda i...   \n",
       "2  262979898002534400  Buena la foto del Huracán Sandy, me recuerda a...   \n",
       "3  262996108400271360     Scary shit #hurricane #NY http://t.co/e4JLBUfH   \n",
       "4  263018881839411200  My fave place in the world #nyc #hurricane #sa...   \n",
       "\n",
       "      userId      imageId(s)        username                       timestamp  \\\n",
       "0   21226711  sandyA_fake_46         iAnnieM  Mon Oct 29 22:34:01 +0000 2012   \n",
       "1  192378571  sandyA_fake_09  CarlosVerareal  Mon Oct 29 19:11:23 +0000 2012   \n",
       "2  132303095  sandyA_fake_09     LucasPalape  Mon Oct 29 18:11:08 +0000 2012   \n",
       "3  241995902  sandyA_fake_29     Haaaaarryyy  Mon Oct 29 19:15:33 +0000 2012   \n",
       "4  250315890  sandyA_fake_15  princess__natt  Mon Oct 29 20:46:02 +0000 2012   \n",
       "\n",
       "  label                                        cleanedText  \n",
       "0  fake  Se acuerdan película El día después mañana Me ...  \n",
       "1  fake  Miren Sandy NY Tremenda imagen huracán Parece ...  \n",
       "2  fake  Buena foto Huracán Sandy recuerda película Día...  \n",
       "3  fake                            Scary shit hurricane NY  \n",
       "4  fake  My fave place world nyc hurricane sandy statue...  "
      ]
     },
     "execution_count": 74,
     "metadata": {},
     "output_type": "execute_result"
    }
   ],
   "source": [
    "# initiate lemmatiser\n",
    "tokeniser = nltk.tokenize.WhitespaceTokenizer()\n",
    "lemmatiser = nltk.stem.WordNetLemmatizer()\n",
    "\n",
    "# lemmatise tweetText\n",
    "training_df['cleanedText'] = training_df['cleanedText'].apply(lambda text: ' '.join([lemmatiser.lemmatize(x) for x in tokeniser.tokenize(text)]))\n",
    "testing_df['cleanedText'] = testing_df['cleanedText'].apply(lambda text: ' '.join([lemmatiser.lemmatize(x) for x in tokeniser.tokenize(text)]))\n",
    "training_df.head()"
   ]
  },
  {
   "cell_type": "markdown",
   "metadata": {},
   "source": [
    "### Remove Duplicates"
   ]
  },
  {
   "cell_type": "code",
   "execution_count": 65,
   "metadata": {},
   "outputs": [],
   "source": [
    "# remove duplicate rows\n",
    "training_df.drop_duplicates(subset=['cleanedText'], keep='first', inplace=True)"
   ]
  },
  {
   "cell_type": "markdown",
   "metadata": {},
   "source": [
    "## Algorithm Application"
   ]
  },
  {
   "cell_type": "markdown",
   "metadata": {},
   "source": [
    "### Import modules and define variables for classification"
   ]
  },
  {
   "cell_type": "code",
   "execution_count": 66,
   "metadata": {},
   "outputs": [],
   "source": [
    "from sklearn.feature_extraction.text import TfidfVectorizer\n",
    "from sklearn.naive_bayes import MultinomialNB\n",
    "from sklearn.linear_model import LogisticRegressionCV\n",
    "from sklearn import metrics\n",
    "\n",
    "# define targets and features for training and testing dataset\n",
    "training_targets = training_df.label\n",
    "training_features = training_df.cleanedText\n",
    "testing_targets = testing_df.label\n",
    "testing_features = testing_df.cleanedText"
   ]
  },
  {
   "cell_type": "markdown",
   "metadata": {},
   "source": [
    "### Initialise TF-IDF Feature Vectoriser"
   ]
  },
  {
   "cell_type": "code",
   "execution_count": 67,
   "metadata": {},
   "outputs": [],
   "source": [
    "# initialise TF-IDF\n",
    "tfidf_vectoriser =  TfidfVectorizer(stop_words='english', max_df=0.05)\n",
    "tfidf_train = tfidf_vectoriser.fit_transform(training_features)\n",
    "tfidf_test = tfidf_vectoriser.transform(testing_features)"
   ]
  },
  {
   "cell_type": "markdown",
   "metadata": {},
   "source": [
    "### Initialise the two classification models (Multinomial NB and Logistic Regression)"
   ]
  },
  {
   "cell_type": "code",
   "execution_count": 76,
   "metadata": {},
   "outputs": [],
   "source": [
    "# initialise MNB classifier\n",
    "multinomailNB_clf = MultinomialNB()\n",
    "multinomailNB_clf.fit(tfidf_train, training_targets)\n",
    "multinomailNB_pred = multinomailNB_clf.predict(tfidf_test)\n",
    "\n",
    "# initialise LG classifier\n",
    "logisticReg_clf = LogisticRegressionCV(cv=20, max_iter=7500)\n",
    "logisticReg_clf.fit(tfidf_train, training_targets)\n",
    "logisticReg_pred = logisticReg_clf.predict(tfidf_test)"
   ]
  },
  {
   "cell_type": "markdown",
   "metadata": {},
   "source": [
    "### Python function to 'manually' calculate F1 score of models"
   ]
  },
  {
   "cell_type": "code",
   "execution_count": 77,
   "metadata": {},
   "outputs": [],
   "source": [
    "# Function to calculate F1 score and print results\n",
    "def calculate_f1Score(model_pred):\n",
    "    TP, TN, FP, FN = 0, 0, 0, 0\n",
    "    \n",
    "    for model_pred, test_target in zip(model_pred, testing_targets):\n",
    "        if model_pred == 'fake':\n",
    "            if test_target == 'fake':\n",
    "                TP += 1\n",
    "            else:\n",
    "                FP += 1\n",
    "        elif model_pred == 'real':\n",
    "            if test_target == 'fake':\n",
    "                FN += 1\n",
    "            else:\n",
    "                TN +=1\n",
    "            \n",
    "    precision = TP / (TP + FP)\n",
    "    recall = TP / (TP + FN)\n",
    "    f1_score = 2 * ((precision * recall) / (precision + recall))\n",
    "    \n",
    "    return f1_score"
   ]
  },
  {
   "cell_type": "markdown",
   "metadata": {},
   "source": [
    "### Print the metrics calculated for the Multinomail Naive Bayes"
   ]
  },
  {
   "cell_type": "code",
   "execution_count": 78,
   "metadata": {},
   "outputs": [
    {
     "name": "stdout",
     "output_type": "stream",
     "text": [
      "MNB accuracy:   0.886\n",
      "MNB F1 Score is:  0.9192147980369951\n",
      "MNB F1 score (calculated) is:  0.9192147980369951\n"
     ]
    },
    {
     "data": {
      "image/png": "[encoded data removed]",
      "text/plain": [
       "<Figure size 640x480 with 2 Axes>"
      ]
     },
     "metadata": {},
     "output_type": "display_data"
    }
   ],
   "source": [
    "# print metrics and accuracy for MNB\n",
    "print(\"MNB accuracy:   %0.3f\" % metrics.accuracy_score(testing_targets, multinomailNB_pred))\n",
    "print(\"MNB F1 Score is: \", metrics.f1_score(testing_targets, multinomailNB_pred, pos_label=\"fake\"))\n",
    "print(\"MNB F1 score (calculated) is: \", calculate_f1Score(multinomailNB_pred))\n",
    "\n",
    "confusion_matrix_MNB = metrics.confusion_matrix(testing_targets, multinomailNB_pred, labels=multinomailNB_clf.classes_)\n",
    "cm_display_MNB = metrics.ConfusionMatrixDisplay(confusion_matrix=confusion_matrix_MNB,  display_labels=multinomailNB_clf.classes_)\n",
    "cm_display_MNB.plot()\n",
    "plt.show()"
   ]
  },
  {
   "cell_type": "markdown",
   "metadata": {},
   "source": [
    "### Print the metrics calculated for the Logistic Regression "
   ]
  },
  {
   "cell_type": "code",
   "execution_count": 79,
   "metadata": {},
   "outputs": [
    {
     "name": "stdout",
     "output_type": "stream",
     "text": [
      "LG accuracy:   0.865\n",
      "LG F1 Score is:  0.9042392127176381\n",
      "LG F1 score (calculated) is:  0.9042392127176381\n"
     ]
    },
    {
     "data": {
      "image/png": "[encoded data removed]",
      "text/plain": [
       "<Figure size 640x480 with 2 Axes>"
      ]
     },
     "metadata": {},
     "output_type": "display_data"
    }
   ],
   "source": [
    "# print metrics and accuracy for LG\n",
    "print(\"LG accuracy:   %0.3f\" % metrics.accuracy_score(testing_targets, logisticReg_pred))\n",
    "print(\"LG F1 Score is: \", metrics.f1_score(testing_targets, logisticReg_pred, pos_label=\"fake\"))\n",
    "print(\"LG F1 score (calculated) is: \", calculate_f1Score(logisticReg_pred))\n",
    "\n",
    "confusion_matrix_LG = metrics.confusion_matrix(testing_targets, logisticReg_pred, labels=logisticReg_clf.classes_)\n",
    "cm_display_LG = metrics.ConfusionMatrixDisplay(confusion_matrix=confusion_matrix_LG,  display_labels=logisticReg_clf.classes_)\n",
    "cm_display_LG.plot()\n",
    "plt.show()"
   ]
  }
 ],
 "metadata": {
  "kernelspec": {
   "display_name": "Python 3",
   "language": "python",
   "name": "python3"
  },
  "language_info": {
   "codemirror_mode": {
    "name": "ipython",
    "version": 3
   },
   "file_extension": ".py",
   "mimetype": "text/x-python",
   "name": "python",
   "nbconvert_exporter": "python",
   "pygments_lexer": "ipython3",
   "version": "3.12.1"
  }
 },
 "nbformat": 4,
 "nbformat_minor": 2
}
